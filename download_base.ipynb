{
  "cells": [
    {
      "cell_type": "code",
      "execution_count": 1,
      "metadata": {
        "id": "DGozz_HxBbDw"
      },
      "outputs": [],
      "source": [
        "import numpy as np\n",
        "import pandas as pd\n",
        "import os\n",
        "import matplotlib.pyplot as plt\n",
        "import vitaldb\n",
        "import warnings\n",
        "warnings.filterwarnings('ignore')"
      ]
    },
    {
      "cell_type": "code",
      "execution_count": 2,
      "metadata": {
        "colab": {
          "base_uri": "https://localhost:8080/"
        },
        "id": "seTjYUs-hlAi",
        "outputId": "84ce4441-46ff-4af1-d342-54e31cb11556"
      },
      "outputs": [
        {
          "name": "stdout",
          "output_type": "stream",
          "text": [
            "Total 541 cases found\n"
          ]
        }
      ],
      "source": [
        "df_trks = pd.read_csv('https://api.vitaldb.net/trks')  # read track list\n",
        "df_cases = pd.read_csv(\"https://api.vitaldb.net/cases\")  # read case information\n",
        "\n",
        "# inclusion & exclusion criteria\n",
        "caseids = list(\n",
        "                set(df_trks[df_trks['tname'] == 'SNUADC/ART']['caseid']) &\n",
        "                set(df_trks[df_trks['tname'] == 'SNUADC/PLETH']['caseid']) &\n",
        "                set(df_trks[df_trks['tname'] == 'EV1000/SV']['caseid']) &\n",
        "                set(df_trks[df_trks['tname'] == 'EV1000/CO']['caseid']) &\n",
        "                set(df_trks[df_trks['tname'] == 'EV1000/SVV']['caseid']) &\n",
        "                set(df_cases[df_cases['age'] > 18]['caseid'])\n",
        ")\n",
        "\n",
        "print('Total {} cases found'.format(len(caseids)))\n",
        "np.random.shuffle(caseids)  # shuffle caseids"
      ]
    },
    {
      "cell_type": "code",
      "execution_count": null,
      "metadata": {
        "colab": {
          "base_uri": "https://localhost:8080/"
        },
        "id": "4xp2phHvCpEP",
        "outputId": "208003dd-901d-4d0a-acd2-cb89e13027fa"
      },
      "outputs": [
        {
          "name": "stdout",
          "output_type": "stream",
          "text": [
            "loading 2356...loading 2356..."
          ]
        }
      ],
      "source": [
        "MINUTES_AHEAD = 1  # Predict hypotension 1 minutes ahead\n",
        "BATCH_SIZE = 256  # Batch size for learning\n",
        "MAX_CASES = 10  # Maximum number of cases for this example\n",
        "SRATE = 100  # sampling rate for the arterial waveform signal\n",
        "SEUIL= 70 # choix du seuil d'hypotension\n",
        "\n",
        "# Final dataset for training and testing the model\n",
        "x = []  # input with shape of (segements, timepoints)\n",
        "y = []  # output with shape of (segments)\n",
        "valid_mask = []  # validity of each segement\n",
        "c = []  # caseid of each segment\n",
        "x1=[]\n",
        "# maximum number of cases\n",
        "\n",
        "for caseid in caseids:\n",
        "    print(f'loading {caseid}', end='...', flush=True)\n",
        "\n",
        "\n",
        "    #for caseid in liste_ids['Caseid'].tolist()[:40]:\n",
        "    print(f'loading {caseid}', end='...', flush=True)# ancien pour cherhcer à partir de la litse\n",
        "\n",
        "    # read the arterial waveform\n",
        "    arts = vitaldb.load_case(caseid, ['SNUADC/ART'], 1/SRATE)\n",
        "    plet = vitaldb.load_case(caseid, ['SNUADC/PLETH'], 1/SRATE)\n",
        "    hr = vitaldb.load_case(caseid, ['Solar8000/PLETH_HR'], 1/SRATE)\n",
        "\n",
        "    arts[arts<30] = np.nan\n",
        "    case_valid_mask = ~np.isnan(arts)\n",
        "    arts = arts[(np.cumsum(case_valid_mask) > 0) & (np.cumsum(case_valid_mask[::-1])[::-1] > 0)]\n",
        "\n",
        "    #Filtering artifacts\n",
        "    arts = arts[(arts>=20) & (arts <=180)].flatten()\n",
        "    hr = hr[(hr>=30) & (hr <=160)].flatten()\n",
        "    plet = plet[(plet>=-10) & (plet<=100)].flatten()\n",
        "\n",
        "    case_sample = 0\n",
        "    case_event = 0\n",
        "\n",
        "    for i in range(0, len(arts) - SRATE * (20 + (1 + MINUTES_AHEAD) * 60), 10 * SRATE):\n",
        "        segx = arts[i:i + SRATE * 20]\n",
        "        segy = arts[i + SRATE * (20 + MINUTES_AHEAD * 60):i + SRATE * (20 + (MINUTES_AHEAD + 1) * 60)]\n",
        "        seg2x = plet[i:i + SRATE * 20]\n",
        "        seg2y = plet[i + SRATE * (20 + MINUTES_AHEAD * 60):i + SRATE * (20 + (MINUTES_AHEAD + 1) * 60)]\n",
        "\n",
        "        # check the validity of this segment\n",
        "        valid = True\n",
        "        if np.isnan(segx).mean() > 0.1:\n",
        "            valid = False\n",
        "        if np.isnan(segy).mean() > 0.1:\n",
        "            valid = False\n",
        "        elif (segx > 200).any():\n",
        "            valid = False\n",
        "        elif (segy > 200).any():\n",
        "            valid = False\n",
        "        elif (segx < 30).any():\n",
        "            valid = False\n",
        "        elif (segy < 30).any():\n",
        "            valid = False\n",
        "        elif (seg2x > 100).any():\n",
        "           valid = False\n",
        "        elif (segx <-10).any():\n",
        "           valid = False\n",
        "        elif np.max(segx) - np.min(segx) < 30:\n",
        "            valid = False\n",
        "        elif np.max(segy) - np.min(segy) < 30:\n",
        "            valid = False\n",
        "        elif (np.abs(np.diff(segx)) > 30).any():  # abrupt change -> noise\n",
        "            valid = False\n",
        "        elif (np.abs(np.diff(segy)) > 30).any():  # abrupt change -> noise\n",
        "            valid = False\n",
        "\n",
        "\n",
        "        # 2 sec moving avg\n",
        "        n = 2 * SRATE\n",
        "        segy = np.nancumsum(segy, dtype=np.float32)\n",
        "        segy[n:] = segy[n:] - segy[:-n]\n",
        "        segy = segy[n - 1:] / n\n",
        "\n",
        "        evt = np.nanmax(segy) < SEUIL\n",
        "\n",
        "        x.append(seg2x)\n",
        "        y.append(evt)\n",
        "        valid_mask.append(valid)\n",
        "        c.append(caseid)\n",
        "\n",
        "        if valid:\n",
        "            case_sample += 1\n",
        "            if evt:\n",
        "                case_event += 1\n",
        "\n",
        "    if case_sample > 0:\n",
        "        print(\"{} samples {} ({:.1f} %) events\".format(case_sample, case_event, 100 * case_event / case_sample))\n",
        "    else:\n",
        "        print('no sample')\n",
        "\n",
        "    #if len(np.unique(c)) >= MAX_CASES:\n",
        "    #  break\n",
        "\n",
        "# final caseids\n",
        "caseids = np.unique(c)\n",
        "\n",
        "# convert lists to numpy array\n",
        "\n",
        "x = np.array(x)\n",
        "y = np.array(y)\n",
        "valid_mask = np.array(valid_mask)\n",
        "c = np.array(c)\n",
        "\n",
        "# forward filling\n",
        "x = pd.DataFrame(x).fillna(method='ffill', axis=1).fillna(method='bfill', axis=1).values\n",
        "\n",
        "# normalization\n",
        "x -= SEUIL\n",
        "x /= SEUIL\n",
        "\n",
        "# add axis for CNN\n",
        "x = x[...,None]\n",
        "\n",
        "print(x.shape)\n",
        "print(y.shape)"
      ]
    },
    {
      "cell_type": "code",
      "execution_count": null,
      "metadata": {
        "id": "9_C9ujRWk_f4"
      },
      "outputs": [],
      "source": [
        "np.save('x_70.npy', x)\n",
        "np.save('y_70.npy', y)"
      ]
    }
  ],
  "metadata": {
    "accelerator": "GPU",
    "colab": {
      "gpuType": "T4",
      "provenance": []
    },
    "kernelspec": {
      "display_name": "Python 3",
      "name": "python3"
    },
    "language_info": {
      "codemirror_mode": {
        "name": "ipython",
        "version": 3
      },
      "file_extension": ".py",
      "mimetype": "text/x-python",
      "name": "python",
      "nbconvert_exporter": "python",
      "pygments_lexer": "ipython3",
      "version": "3.10.14"
    }
  },
  "nbformat": 4,
  "nbformat_minor": 0
}
