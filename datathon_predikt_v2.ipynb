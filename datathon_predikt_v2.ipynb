{
  "cells": [
    {
      "cell_type": "code",
      "execution_count": 3,
      "metadata": {
        "colab": {
          "base_uri": "https://localhost:8080/"
        },
        "id": "haUXGG1oBYXR",
        "outputId": "deb89f35-f550-4dda-a0c7-85f542d00dd1"
      },
      "outputs": [],
      "source": [
        "#!pip install vitaldb\n",
        "#!pip install imbalanced-learn\n"
      ]
    },
    {
      "cell_type": "code",
      "execution_count": 4,
      "metadata": {
        "id": "DGozz_HxBbDw"
      },
      "outputs": [],
      "source": [
        "import numpy as np\n",
        "import pandas as pd\n",
        "import os\n",
        "import matplotlib.pyplot as plt\n",
        "import vitaldb\n",
        "import warnings\n",
        "import imblearn\n",
        "warnings.filterwarnings('ignore')"
      ]
    },
    {
      "cell_type": "code",
      "execution_count": null,
      "metadata": {
        "colab": {
          "base_uri": "https://localhost:8080/",
          "height": 423
        },
        "id": "aacj70VCE93U",
        "outputId": "ee759d11-8fd4-42c9-9b8c-48e9f7823ad9"
      },
      "outputs": [
        {
          "data": {
            "text/html": [
              "<div>\n",
              "<style scoped>\n",
              "    .dataframe tbody tr th:only-of-type {\n",
              "        vertical-align: middle;\n",
              "    }\n",
              "\n",
              "    .dataframe tbody tr th {\n",
              "        vertical-align: top;\n",
              "    }\n",
              "\n",
              "    .dataframe thead th {\n",
              "        text-align: right;\n",
              "    }\n",
              "</style>\n",
              "<table border=\"1\" class=\"dataframe\">\n",
              "  <thead>\n",
              "    <tr style=\"text-align: right;\">\n",
              "      <th></th>\n",
              "      <th>Caseid</th>\n",
              "    </tr>\n",
              "  </thead>\n",
              "  <tbody>\n",
              "    <tr>\n",
              "      <th>0</th>\n",
              "      <td>17</td>\n",
              "    </tr>\n",
              "    <tr>\n",
              "      <th>1</th>\n",
              "      <td>19</td>\n",
              "    </tr>\n",
              "    <tr>\n",
              "      <th>2</th>\n",
              "      <td>25</td>\n",
              "    </tr>\n",
              "    <tr>\n",
              "      <th>3</th>\n",
              "      <td>29</td>\n",
              "    </tr>\n",
              "    <tr>\n",
              "      <th>4</th>\n",
              "      <td>34</td>\n",
              "    </tr>\n",
              "    <tr>\n",
              "      <th>...</th>\n",
              "      <td>...</td>\n",
              "    </tr>\n",
              "    <tr>\n",
              "      <th>543</th>\n",
              "      <td>6346</td>\n",
              "    </tr>\n",
              "    <tr>\n",
              "      <th>544</th>\n",
              "      <td>6351</td>\n",
              "    </tr>\n",
              "    <tr>\n",
              "      <th>545</th>\n",
              "      <td>6355</td>\n",
              "    </tr>\n",
              "    <tr>\n",
              "      <th>546</th>\n",
              "      <td>6378</td>\n",
              "    </tr>\n",
              "    <tr>\n",
              "      <th>547</th>\n",
              "      <td>6383</td>\n",
              "    </tr>\n",
              "  </tbody>\n",
              "</table>\n",
              "<p>548 rows × 1 columns</p>\n",
              "</div>"
            ],
            "text/plain": [
              "     Caseid\n",
              "0        17\n",
              "1        19\n",
              "2        25\n",
              "3        29\n",
              "4        34\n",
              "..      ...\n",
              "543    6346\n",
              "544    6351\n",
              "545    6355\n",
              "546    6378\n",
              "547    6383\n",
              "\n",
              "[548 rows x 1 columns]"
            ]
          },
          "execution_count": 18,
          "metadata": {},
          "output_type": "execute_result"
        }
      ],
      "source": [
        "liste_ids = pd.read_excel(\"liste id.xlsx\")\n",
        "liste_ids"
      ]
    },
    {
      "cell_type": "code",
      "execution_count": null,
      "metadata": {
        "id": "ow30pXdEBqtk"
      },
      "outputs": [],
      "source": [
        "df_trks = pd.read_csv('https://api.vitaldb.net/trks')\n",
        "df_cases = pd.read_csv(\"https://api.vitaldb.net/cases\")"
      ]
    },
    {
      "cell_type": "markdown",
      "metadata": {
        "id": "0Q2d2PY1MQtM"
      },
      "source": []
    },
    {
      "cell_type": "code",
      "execution_count": null,
      "metadata": {},
      "outputs": [],
      "source": [
        "LSTM_NODES = 16  # Number of cells in LSTM"
      ]
    },
    {
      "cell_type": "code",
      "execution_count": null,
      "metadata": {
        "colab": {
          "base_uri": "https://localhost:8080/",
          "height": 211
        },
        "id": "4xp2phHvCpEP",
        "outputId": "5e3ef063-9de5-42be-a996-1a288337e803"
      },
      "outputs": [
        {
          "name": "stdout",
          "output_type": "stream",
          "text": [
            "loading 17..."
          ]
        },
        {
          "name": "stdout",
          "output_type": "stream",
          "text": [
            "434 samples 8 (1.8 %) events\n",
            "loading 19...604 samples 93 (15.4 %) events\n",
            "loading 25...296 samples 12 (4.1 %) events\n",
            "loading 29...457 samples 0 (0.0 %) events\n",
            "loading 34...441 samples 0 (0.0 %) events\n",
            "loading 52...344 samples 5 (1.5 %) events\n",
            "loading 60...277 samples 1 (0.4 %) events\n",
            "loading 70...252 samples 0 (0.0 %) events\n",
            "loading 83...263 samples 3 (1.1 %) events\n",
            "loading 94...518 samples 44 (8.5 %) events\n",
            "(4382, 40, 1)\n",
            "(4382,)\n",
            "169\n"
          ]
        }
      ],
      "source": [
        "MINUTES_AHEAD = 1  # Predict hypotension 1 minutes ahead\n",
        "BATCH_SIZE = 256  # Batch size for learning\n",
        "MAX_CASES = 100  # Maximum number of cases for this example\n",
        "SRATE = 2  # sampling rate for the arterial waveform signal\n",
        "\n",
        "# Final dataset for training and testing the model\n",
        "x = []  # input with shape of (segements, timepoints)\n",
        "y = []  # output with shape of (segments)\n",
        "valid_mask = []  # validity of each segement\n",
        "c = []  # caseid of each segment\n",
        "x1=[]\n",
        "# maximum number of cases\n",
        "for caseid in liste_ids['Caseid'].tolist()[0:10]:\n",
        "    print(f'loading {caseid}', end='...', flush=True)\n",
        "\n",
        "    # read the arterial waveform\n",
        "    arts = vitaldb.load_case(caseid, ['Solar8000/ART_MBP'], 2)\n",
        "    plet = vitaldb.load_case(caseid, ['SNUADC/PLETH'], 2)\n",
        "    hr = vitaldb.load_case(caseid, ['Solar8000/PLETH_HR'], 2)\n",
        "\n",
        "    arts[arts<30]=np.nan\n",
        "    case_valid_mask = ~np.isnan(arts)\n",
        "    arts = arts[(np.cumsum(case_valid_mask) > 0) & (np.cumsum(case_valid_mask[::-1])[::-1] > 0)]\n",
        "    \n",
        "    #Filtering artifacts\n",
        "    arts=arts[(arts>=20) & (arts <=180)].flatten()\n",
        "    hr=hr[(hr>=30) & (hr <=160)].flatten()\n",
        "    plet=plet[(plet>=-10) & (plet<=100)].flatten()\n",
        "\n",
        "\n",
        "\n",
        "    case_sample = 0\n",
        "    case_event = 0\n",
        "\n",
        "    for i in range(0, len(arts) - SRATE * (20 + (1 + MINUTES_AHEAD) * 60), 10 * SRATE):\n",
        "        segx = arts[i:i + SRATE * 20]\n",
        "        segy = arts[i + SRATE * (20 + MINUTES_AHEAD * 60):i + SRATE * (20 + (MINUTES_AHEAD + 1) * 60)]\n",
        "        seg2x = plet[i:i + SRATE * 20]\n",
        "        seg2y = plet[i + SRATE * (20 + MINUTES_AHEAD * 60):i + SRATE * (20 + (MINUTES_AHEAD + 1) * 60)]\n",
        "        seg3x=hr[i:i + SRATE * 20]\n",
        "        seg3y = hr[i + SRATE * (20 + MINUTES_AHEAD * 60):i + SRATE * (20 + (MINUTES_AHEAD + 1) * 60)]\n",
        "\n",
        "        # check the validity of this segment\n",
        "        valid = True\n",
        "        if np.isnan(segx).mean() > 0.1:\n",
        "            valid = False\n",
        "        if np.isnan(segy).mean() > 0.1:\n",
        "            valid = False\n",
        "        elif (segx > 150).any():\n",
        "            valid = False\n",
        "        elif (segy > 150).any():\n",
        "            valid = False\n",
        "        elif (np.abs(np.diff(segx)) > 50).any():  # abrupt change -> noise\n",
        "            valid = False\n",
        "        elif (np.abs(np.diff(segy)) > 50).any():  # abrupt change -> noise\n",
        "            valid = False\n",
        "\n",
        "\n",
        "        # 2 sec moving avg\n",
        "        n = 2 * SRATE\n",
        "        segy = np.nancumsum(segy, dtype=np.float32)\n",
        "        segy[n:] = segy[n:] - segy[:-n]\n",
        "        segy = segy[n - 1:] / n\n",
        "\n",
        "        evt = np.nanmax(segy) < 65\n",
        "        \n",
        "        \n",
        "        x.append(seg2x)\n",
        "        y.append(evt)\n",
        "        valid_mask.append(valid)\n",
        "        c.append(caseid)\n",
        "\n",
        "        if valid:\n",
        "            case_sample += 1\n",
        "            if evt:\n",
        "                case_event += 1\n",
        "      \n",
        "\n",
        "    if case_sample > 0:\n",
        "        print(\"{} samples {} ({:.1f} %) events\".format(case_sample, case_event, 100 * case_event / case_sample))\n",
        "    else:\n",
        "        print('no sample')\n",
        "\n",
        "    #if len(np.unique(c)) >= MAX_CASES:\n",
        "    #    break\n",
        "\n",
        "# final caseids\n",
        "caseids = np.unique(c)\n",
        "\n",
        "# convert lists to numpy array\n",
        "\n",
        "\n",
        "\n",
        "x = np.array(x)\n",
        "y = np.array(y)\n",
        "valid_mask = np.array(valid_mask)\n",
        "c = np.array(c)\n",
        "\n",
        "# forward filling\n",
        "x = pd.DataFrame(x).fillna(method='ffill', axis=1).fillna(method='bfill', axis=1).values\n",
        "\n",
        "# normalization\n",
        "x -= 65\n",
        "x /= 65\n",
        "\n",
        "# add axis for CNN\n",
        "x = x[...,None]\n",
        "\n",
        "print(x.shape)\n",
        "print(y.shape)\n",
        "\n",
        "print(y.astype(int).sum())"
      ]
    },
    {
      "cell_type": "code",
      "execution_count": 9,
      "metadata": {},
      "outputs": [
        {
          "name": "stdout",
          "output_type": "stream",
          "text": [
            "(201398, 1, 1)\n",
            "(40,)\n",
            "(201398,)\n"
          ]
        }
      ],
      "source": [
        "# Load the numpy file\n",
        "datax = np.load('x.npy',allow_pickle=True)\n",
        "datay = np.load('y.npy',allow_pickle=True)\n",
        "# Access the data\n",
        "print(datax.shape)\n",
        "print(datax[0][0][0].shape)\n",
        "print(datay.shape)"
      ]
    },
    {
      "cell_type": "code",
      "execution_count": 13,
      "metadata": {},
      "outputs": [
        {
          "name": "stdout",
          "output_type": "stream",
          "text": [
            "(200353, 40)\n",
            "(200353,)\n"
          ]
        }
      ],
      "source": [
        "new_data_x=[]\n",
        "\n",
        "# Iterate through the nested arrays and keep track of indices\n",
        "indices=[]\n",
        "for i, arr1 in enumerate(datax):\n",
        "    for j, arr2 in enumerate(arr1):\n",
        "        for k, item in enumerate(arr2):\n",
        "            if item.shape == (40,):\n",
        "                new_data_x.append(item)\n",
        "            else:\n",
        "                indices.append(i)\n",
        "\n",
        "#Converting list to array\n",
        "new_x=np.array(new_data_x)\n",
        "new_y = np.delete(datay, indices)\n",
        "\n",
        "#add axis\n",
        "print(new_x.shape)\n",
        "print(new_y.shape)"
      ]
    },
    {
      "cell_type": "code",
      "execution_count": 20,
      "metadata": {
        "id": "lkq6jf9wMo9h"
      },
      "outputs": [],
      "source": [
        "from sklearn.model_selection import train_test_split\n",
        "from imblearn.over_sampling import SMOTE\n",
        "\n",
        "smote = SMOTE(sampling_strategy='auto', random_state=42)\n",
        "X_resampled, Y_resampled = smote.fit_resample(new_x, new_y)\n",
        "\n",
        "train_x_valid, test_x_valid, train_y_valid, test_y_valid = train_test_split(X_resampled, \n",
        "                                                                            Y_resampled, \n",
        "                                                                            test_size=0.2, \n",
        "                                                                            random_state=42,\n",
        "                                                                            stratify=Y_resampled)\n",
        "\n"
      ]
    },
    {
      "cell_type": "code",
      "execution_count": 21,
      "metadata": {},
      "outputs": [],
      "source": [
        "# add axis for CNN\n",
        "train_x_valid = train_x_valid[...,None]  \n",
        "# add axis for CNN\n",
        "test_x_valid = test_x_valid[...,None]  "
      ]
    },
    {
      "cell_type": "code",
      "execution_count": 22,
      "metadata": {},
      "outputs": [],
      "source": [
        "train_y_valid=train_y_valid.astype(int)"
      ]
    },
    {
      "cell_type": "code",
      "execution_count": 23,
      "metadata": {},
      "outputs": [
        {
          "data": {
            "text/plain": [
              "(311660,)"
            ]
          },
          "execution_count": 23,
          "metadata": {},
          "output_type": "execute_result"
        }
      ],
      "source": [
        "train_y_valid.shape"
      ]
    },
    {
      "cell_type": "code",
      "execution_count": 24,
      "metadata": {},
      "outputs": [
        {
          "data": {
            "text/plain": [
              "(311660, 40, 1)"
            ]
          },
          "execution_count": 24,
          "metadata": {},
          "output_type": "execute_result"
        }
      ],
      "source": [
        "train_x_valid.shape"
      ]
    },
    {
      "cell_type": "code",
      "execution_count": 50,
      "metadata": {
        "id": "Fwkz0WrfN1Lj"
      },
      "outputs": [
        {
          "name": "stdout",
          "output_type": "stream",
          "text": [
            "Epoch 1/50\n",
            "\u001b[1m853/853\u001b[0m \u001b[32m━━━━━━━━━━━━━━━━━━━━\u001b[0m\u001b[37m\u001b[0m \u001b[1m0s\u001b[0m 178ms/step - accuracy: 0.5877 - auc_9: 0.6188 - loss: 0.6736\n",
            "Epoch 1: val_loss improved from inf to 1.60034, saving model to output/weights.keras\n",
            "\u001b[1m853/853\u001b[0m \u001b[32m━━━━━━━━━━━━━━━━━━━━\u001b[0m\u001b[37m\u001b[0m \u001b[1m187s\u001b[0m 213ms/step - accuracy: 0.5877 - auc_9: 0.6188 - loss: 0.6736 - val_accuracy: 0.4992 - val_auc_9: 0.6209 - val_loss: 1.6003\n",
            "Epoch 2/50\n",
            "\u001b[1m853/853\u001b[0m \u001b[32m━━━━━━━━━━━━━━━━━━━━\u001b[0m\u001b[37m\u001b[0m \u001b[1m0s\u001b[0m 168ms/step - accuracy: 0.5970 - auc_9: 0.6348 - loss: 0.6647\n",
            "Epoch 2: val_loss improved from 1.60034 to 0.69485, saving model to output/weights.keras\n",
            "\u001b[1m853/853\u001b[0m \u001b[32m━━━━━━━━━━━━━━━━━━━━\u001b[0m\u001b[37m\u001b[0m \u001b[1m173s\u001b[0m 203ms/step - accuracy: 0.5970 - auc_9: 0.6348 - loss: 0.6647 - val_accuracy: 0.5435 - val_auc_9: 0.6377 - val_loss: 0.6948\n",
            "Epoch 3/50\n",
            "\u001b[1m853/853\u001b[0m \u001b[32m━━━━━━━━━━━━━━━━━━━━\u001b[0m\u001b[37m\u001b[0m \u001b[1m0s\u001b[0m 175ms/step - accuracy: 0.5978 - auc_9: 0.6382 - loss: 0.6630\n",
            "Epoch 3: val_loss did not improve from 0.69485\n",
            "\u001b[1m853/853\u001b[0m \u001b[32m━━━━━━━━━━━━━━━━━━━━\u001b[0m\u001b[37m\u001b[0m \u001b[1m179s\u001b[0m 209ms/step - accuracy: 0.5978 - auc_9: 0.6382 - loss: 0.6630 - val_accuracy: 0.4992 - val_auc_9: 0.6386 - val_loss: 1.2862\n",
            "Epoch 4/50\n",
            "\u001b[1m853/853\u001b[0m \u001b[32m━━━━━━━━━━━━━━━━━━━━\u001b[0m\u001b[37m\u001b[0m \u001b[1m0s\u001b[0m 192ms/step - accuracy: 0.5970 - auc_9: 0.6372 - loss: 0.6627\n",
            "Epoch 4: val_loss did not improve from 0.69485\n",
            "\u001b[1m853/853\u001b[0m \u001b[32m━━━━━━━━━━━━━━━━━━━━\u001b[0m\u001b[37m\u001b[0m \u001b[1m198s\u001b[0m 232ms/step - accuracy: 0.5970 - auc_9: 0.6372 - loss: 0.6627 - val_accuracy: 0.5062 - val_auc_9: 0.6393 - val_loss: 1.0791\n",
            "Epoch 5/50\n",
            "\u001b[1m853/853\u001b[0m \u001b[32m━━━━━━━━━━━━━━━━━━━━\u001b[0m\u001b[37m\u001b[0m \u001b[1m0s\u001b[0m 183ms/step - accuracy: 0.5995 - auc_9: 0.6401 - loss: 0.6618\n",
            "Epoch 5: val_loss did not improve from 0.69485\n",
            "\u001b[1m853/853\u001b[0m \u001b[32m━━━━━━━━━━━━━━━━━━━━\u001b[0m\u001b[37m\u001b[0m \u001b[1m186s\u001b[0m 218ms/step - accuracy: 0.5995 - auc_9: 0.6401 - loss: 0.6618 - val_accuracy: 0.5107 - val_auc_9: 0.6438 - val_loss: 1.0557\n",
            "Epoch 6/50\n",
            "\u001b[1m853/853\u001b[0m \u001b[32m━━━━━━━━━━━━━━━━━━━━\u001b[0m\u001b[37m\u001b[0m \u001b[1m0s\u001b[0m 181ms/step - accuracy: 0.6066 - auc_9: 0.6474 - loss: 0.6577\n",
            "Epoch 6: val_loss improved from 0.69485 to 0.66785, saving model to output/weights.keras\n",
            "\u001b[1m853/853\u001b[0m \u001b[32m━━━━━━━━━━━━━━━━━━━━\u001b[0m\u001b[37m\u001b[0m \u001b[1m184s\u001b[0m 216ms/step - accuracy: 0.6066 - auc_9: 0.6474 - loss: 0.6577 - val_accuracy: 0.6088 - val_auc_9: 0.6567 - val_loss: 0.6679\n",
            "Epoch 7/50\n",
            "\u001b[1m853/853\u001b[0m \u001b[32m━━━━━━━━━━━━━━━━━━━━\u001b[0m\u001b[37m\u001b[0m \u001b[1m0s\u001b[0m 182ms/step - accuracy: 0.6181 - auc_9: 0.6626 - loss: 0.6495\n",
            "Epoch 7: val_loss improved from 0.66785 to 0.65297, saving model to output/weights.keras\n",
            "\u001b[1m853/853\u001b[0m \u001b[32m━━━━━━━━━━━━━━━━━━━━\u001b[0m\u001b[37m\u001b[0m \u001b[1m186s\u001b[0m 218ms/step - accuracy: 0.6181 - auc_9: 0.6626 - loss: 0.6495 - val_accuracy: 0.6179 - val_auc_9: 0.6591 - val_loss: 0.6530\n",
            "Epoch 8/50\n",
            "\u001b[1m853/853\u001b[0m \u001b[32m━━━━━━━━━━━━━━━━━━━━\u001b[0m\u001b[37m\u001b[0m \u001b[1m0s\u001b[0m 181ms/step - accuracy: 0.6272 - auc_9: 0.6759 - loss: 0.6421\n",
            "Epoch 8: val_loss improved from 0.65297 to 0.63577, saving model to output/weights.keras\n",
            "\u001b[1m853/853\u001b[0m \u001b[32m━━━━━━━━━━━━━━━━━━━━\u001b[0m\u001b[37m\u001b[0m \u001b[1m186s\u001b[0m 218ms/step - accuracy: 0.6272 - auc_9: 0.6759 - loss: 0.6421 - val_accuracy: 0.6319 - val_auc_9: 0.6863 - val_loss: 0.6358\n",
            "Epoch 9/50\n",
            "\u001b[1m853/853\u001b[0m \u001b[32m━━━━━━━━━━━━━━━━━━━━\u001b[0m\u001b[37m\u001b[0m \u001b[1m0s\u001b[0m 179ms/step - accuracy: 0.6367 - auc_9: 0.6913 - loss: 0.6317\n",
            "Epoch 9: val_loss improved from 0.63577 to 0.62675, saving model to output/weights.keras\n",
            "\u001b[1m853/853\u001b[0m \u001b[32m━━━━━━━━━━━━━━━━━━━━\u001b[0m\u001b[37m\u001b[0m \u001b[1m184s\u001b[0m 215ms/step - accuracy: 0.6367 - auc_9: 0.6913 - loss: 0.6317 - val_accuracy: 0.6460 - val_auc_9: 0.7024 - val_loss: 0.6268\n",
            "Epoch 10/50\n",
            "\u001b[1m853/853\u001b[0m \u001b[32m━━━━━━━━━━━━━━━━━━━━\u001b[0m\u001b[37m\u001b[0m \u001b[1m0s\u001b[0m 181ms/step - accuracy: 0.6494 - auc_9: 0.7074 - loss: 0.6212\n",
            "Epoch 10: val_loss improved from 0.62675 to 0.60734, saving model to output/weights.keras\n",
            "\u001b[1m853/853\u001b[0m \u001b[32m━━━━━━━━━━━━━━━━━━━━\u001b[0m\u001b[37m\u001b[0m \u001b[1m185s\u001b[0m 217ms/step - accuracy: 0.6494 - auc_9: 0.7074 - loss: 0.6212 - val_accuracy: 0.6645 - val_auc_9: 0.7261 - val_loss: 0.6073\n",
            "Epoch 11/50\n",
            "\u001b[1m853/853\u001b[0m \u001b[32m━━━━━━━━━━━━━━━━━━━━\u001b[0m\u001b[37m\u001b[0m \u001b[1m0s\u001b[0m 182ms/step - accuracy: 0.6643 - auc_9: 0.7290 - loss: 0.6042\n",
            "Epoch 11: val_loss improved from 0.60734 to 0.59099, saving model to output/weights.keras\n",
            "\u001b[1m853/853\u001b[0m \u001b[32m━━━━━━━━━━━━━━━━━━━━\u001b[0m\u001b[37m\u001b[0m \u001b[1m186s\u001b[0m 219ms/step - accuracy: 0.6643 - auc_9: 0.7290 - loss: 0.6042 - val_accuracy: 0.6679 - val_auc_9: 0.7496 - val_loss: 0.5910\n",
            "Epoch 12/50\n",
            "\u001b[1m853/853\u001b[0m \u001b[32m━━━━━━━━━━━━━━━━━━━━\u001b[0m\u001b[37m\u001b[0m \u001b[1m0s\u001b[0m 185ms/step - accuracy: 0.6822 - auc_9: 0.7540 - loss: 0.5819\n",
            "Epoch 12: val_loss improved from 0.59099 to 0.56878, saving model to output/weights.keras\n",
            "\u001b[1m853/853\u001b[0m \u001b[32m━━━━━━━━━━━━━━━━━━━━\u001b[0m\u001b[37m\u001b[0m \u001b[1m189s\u001b[0m 221ms/step - accuracy: 0.6822 - auc_9: 0.7540 - loss: 0.5819 - val_accuracy: 0.6950 - val_auc_9: 0.7693 - val_loss: 0.5688\n",
            "Epoch 13/50\n",
            "\u001b[1m853/853\u001b[0m \u001b[32m━━━━━━━━━━━━━━━━━━━━\u001b[0m\u001b[37m\u001b[0m \u001b[1m0s\u001b[0m 186ms/step - accuracy: 0.7017 - auc_9: 0.7807 - loss: 0.5553\n",
            "Epoch 13: val_loss improved from 0.56878 to 0.54675, saving model to output/weights.keras\n",
            "\u001b[1m853/853\u001b[0m \u001b[32m━━━━━━━━━━━━━━━━━━━━\u001b[0m\u001b[37m\u001b[0m \u001b[1m190s\u001b[0m 222ms/step - accuracy: 0.7017 - auc_9: 0.7807 - loss: 0.5553 - val_accuracy: 0.7068 - val_auc_9: 0.7945 - val_loss: 0.5468\n",
            "Epoch 14/50\n",
            "\u001b[1m853/853\u001b[0m \u001b[32m━━━━━━━━━━━━━━━━━━━━\u001b[0m\u001b[37m\u001b[0m \u001b[1m0s\u001b[0m 194ms/step - accuracy: 0.7243 - auc_9: 0.8077 - loss: 0.5254\n",
            "Epoch 14: val_loss improved from 0.54675 to 0.51458, saving model to output/weights.keras\n",
            "\u001b[1m853/853\u001b[0m \u001b[32m━━━━━━━━━━━━━━━━━━━━\u001b[0m\u001b[37m\u001b[0m \u001b[1m197s\u001b[0m 230ms/step - accuracy: 0.7243 - auc_9: 0.8077 - loss: 0.5254 - val_accuracy: 0.7339 - val_auc_9: 0.8192 - val_loss: 0.5146\n",
            "Epoch 15/50\n",
            "\u001b[1m853/853\u001b[0m \u001b[32m━━━━━━━━━━━━━━━━━━━━\u001b[0m\u001b[37m\u001b[0m \u001b[1m0s\u001b[0m 188ms/step - accuracy: 0.7454 - auc_9: 0.8314 - loss: 0.4958\n",
            "Epoch 15: val_loss improved from 0.51458 to 0.49173, saving model to output/weights.keras\n",
            "\u001b[1m853/853\u001b[0m \u001b[32m━━━━━━━━━━━━━━━━━━━━\u001b[0m\u001b[37m\u001b[0m \u001b[1m192s\u001b[0m 225ms/step - accuracy: 0.7454 - auc_9: 0.8314 - loss: 0.4958 - val_accuracy: 0.7525 - val_auc_9: 0.8361 - val_loss: 0.4917\n",
            "Epoch 16/50\n",
            "\u001b[1m853/853\u001b[0m \u001b[32m━━━━━━━━━━━━━━━━━━━━\u001b[0m\u001b[37m\u001b[0m \u001b[1m0s\u001b[0m 189ms/step - accuracy: 0.7699 - auc_9: 0.8557 - loss: 0.4628\n",
            "Epoch 16: val_loss improved from 0.49173 to 0.46709, saving model to output/weights.keras\n",
            "\u001b[1m853/853\u001b[0m \u001b[32m━━━━━━━━━━━━━━━━━━━━\u001b[0m\u001b[37m\u001b[0m \u001b[1m192s\u001b[0m 226ms/step - accuracy: 0.7699 - auc_9: 0.8557 - loss: 0.4628 - val_accuracy: 0.7685 - val_auc_9: 0.8531 - val_loss: 0.4671\n",
            "Epoch 17/50\n",
            "\u001b[1m852/853\u001b[0m \u001b[32m━━━━━━━━━━━━━━━━━━━\u001b[0m\u001b[37m━\u001b[0m \u001b[1m0s\u001b[0m 189ms/step - accuracy: 0.7880 - auc_9: 0.8749 - loss: 0.4332\n",
            "Epoch 17: val_loss improved from 0.46709 to 0.44225, saving model to output/weights.keras\n",
            "\u001b[1m853/853\u001b[0m \u001b[32m━━━━━━━━━━━━━━━━━━━━\u001b[0m\u001b[37m\u001b[0m \u001b[1m192s\u001b[0m 225ms/step - accuracy: 0.7881 - auc_9: 0.8749 - loss: 0.4332 - val_accuracy: 0.7844 - val_auc_9: 0.8707 - val_loss: 0.4423\n",
            "Epoch 18/50\n",
            "\u001b[1m853/853\u001b[0m \u001b[32m━━━━━━━━━━━━━━━━━━━━\u001b[0m\u001b[37m\u001b[0m \u001b[1m0s\u001b[0m 190ms/step - accuracy: 0.8075 - auc_9: 0.8921 - loss: 0.4051\n",
            "Epoch 18: val_loss improved from 0.44225 to 0.42242, saving model to output/weights.keras\n",
            "\u001b[1m853/853\u001b[0m \u001b[32m━━━━━━━━━━━━━━━━━━━━\u001b[0m\u001b[37m\u001b[0m \u001b[1m193s\u001b[0m 226ms/step - accuracy: 0.8075 - auc_9: 0.8921 - loss: 0.4051 - val_accuracy: 0.7995 - val_auc_9: 0.8833 - val_loss: 0.4224\n",
            "Epoch 19/50\n",
            "\u001b[1m853/853\u001b[0m \u001b[32m━━━━━━━━━━━━━━━━━━━━\u001b[0m\u001b[37m\u001b[0m \u001b[1m0s\u001b[0m 193ms/step - accuracy: 0.8229 - auc_9: 0.9058 - loss: 0.3795\n",
            "Epoch 19: val_loss improved from 0.42242 to 0.40739, saving model to output/weights.keras\n",
            "\u001b[1m853/853\u001b[0m \u001b[32m━━━━━━━━━━━━━━━━━━━━\u001b[0m\u001b[37m\u001b[0m \u001b[1m196s\u001b[0m 230ms/step - accuracy: 0.8229 - auc_9: 0.9058 - loss: 0.3795 - val_accuracy: 0.8115 - val_auc_9: 0.8924 - val_loss: 0.4074\n",
            "Epoch 20/50\n",
            "\u001b[1m853/853\u001b[0m \u001b[32m━━━━━━━━━━━━━━━━━━━━\u001b[0m\u001b[37m\u001b[0m \u001b[1m0s\u001b[0m 194ms/step - accuracy: 0.8373 - auc_9: 0.9175 - loss: 0.3558\n",
            "Epoch 20: val_loss improved from 0.40739 to 0.38793, saving model to output/weights.keras\n",
            "\u001b[1m853/853\u001b[0m \u001b[32m━━━━━━━━━━━━━━━━━━━━\u001b[0m\u001b[37m\u001b[0m \u001b[1m197s\u001b[0m 231ms/step - accuracy: 0.8373 - auc_9: 0.9175 - loss: 0.3558 - val_accuracy: 0.8233 - val_auc_9: 0.9040 - val_loss: 0.3879\n",
            "Epoch 21/50\n",
            "\u001b[1m853/853\u001b[0m \u001b[32m━━━━━━━━━━━━━━━━━━━━\u001b[0m\u001b[37m\u001b[0m \u001b[1m0s\u001b[0m 194ms/step - accuracy: 0.8508 - auc_9: 0.9285 - loss: 0.3333\n",
            "Epoch 21: val_loss improved from 0.38793 to 0.38368, saving model to output/weights.keras\n",
            "\u001b[1m853/853\u001b[0m \u001b[32m━━━━━━━━━━━━━━━━━━━━\u001b[0m\u001b[37m\u001b[0m \u001b[1m197s\u001b[0m 231ms/step - accuracy: 0.8508 - auc_9: 0.9285 - loss: 0.3333 - val_accuracy: 0.8295 - val_auc_9: 0.9075 - val_loss: 0.3837\n",
            "Epoch 22/50\n",
            "\u001b[1m853/853\u001b[0m \u001b[32m━━━━━━━━━━━━━━━━━━━━\u001b[0m\u001b[37m\u001b[0m \u001b[1m0s\u001b[0m 196ms/step - accuracy: 0.8621 - auc_9: 0.9365 - loss: 0.3136\n",
            "Epoch 22: val_loss improved from 0.38368 to 0.37178, saving model to output/weights.keras\n",
            "\u001b[1m853/853\u001b[0m \u001b[32m━━━━━━━━━━━━━━━━━━━━\u001b[0m\u001b[37m\u001b[0m \u001b[1m199s\u001b[0m 233ms/step - accuracy: 0.8621 - auc_9: 0.9365 - loss: 0.3136 - val_accuracy: 0.8354 - val_auc_9: 0.9137 - val_loss: 0.3718\n",
            "Epoch 23/50\n",
            "\u001b[1m853/853\u001b[0m \u001b[32m━━━━━━━━━━━━━━━━━━━━\u001b[0m\u001b[37m\u001b[0m \u001b[1m0s\u001b[0m 276ms/step - accuracy: 0.8714 - auc_9: 0.9446 - loss: 0.2936\n",
            "Epoch 23: val_loss improved from 0.37178 to 0.35422, saving model to output/weights.keras\n",
            "\u001b[1m853/853\u001b[0m \u001b[32m━━━━━━━━━━━━━━━━━━━━\u001b[0m\u001b[37m\u001b[0m \u001b[1m281s\u001b[0m 330ms/step - accuracy: 0.8714 - auc_9: 0.9446 - loss: 0.2936 - val_accuracy: 0.8450 - val_auc_9: 0.9214 - val_loss: 0.3542\n",
            "Epoch 24/50\n",
            "\u001b[1m852/853\u001b[0m \u001b[32m━━━━━━━━━━━━━━━━━━━\u001b[0m\u001b[37m━\u001b[0m \u001b[1m0s\u001b[0m 262ms/step - accuracy: 0.8829 - auc_9: 0.9517 - loss: 0.2742\n",
            "Epoch 24: val_loss improved from 0.35422 to 0.35032, saving model to output/weights.keras\n",
            "\u001b[1m853/853\u001b[0m \u001b[32m━━━━━━━━━━━━━━━━━━━━\u001b[0m\u001b[37m\u001b[0m \u001b[1m245s\u001b[0m 287ms/step - accuracy: 0.8829 - auc_9: 0.9517 - loss: 0.2742 - val_accuracy: 0.8517 - val_auc_9: 0.9253 - val_loss: 0.3503\n",
            "Epoch 25/50\n",
            "\u001b[1m852/853\u001b[0m \u001b[32m━━━━━━━━━━━━━━━━━━━\u001b[0m\u001b[37m━\u001b[0m \u001b[1m0s\u001b[0m 136ms/step - accuracy: 0.8893 - auc_9: 0.9563 - loss: 0.2615\n",
            "Epoch 25: val_loss improved from 0.35032 to 0.33412, saving model to output/weights.keras\n",
            "\u001b[1m853/853\u001b[0m \u001b[32m━━━━━━━━━━━━━━━━━━━━\u001b[0m\u001b[37m\u001b[0m \u001b[1m136s\u001b[0m 160ms/step - accuracy: 0.8893 - auc_9: 0.9563 - loss: 0.2615 - val_accuracy: 0.8618 - val_auc_9: 0.9316 - val_loss: 0.3341\n",
            "Epoch 26/50\n",
            "\u001b[1m852/853\u001b[0m \u001b[32m━━━━━━━━━━━━━━━━━━━\u001b[0m\u001b[37m━\u001b[0m \u001b[1m0s\u001b[0m 131ms/step - accuracy: 0.8978 - auc_9: 0.9623 - loss: 0.2430\n",
            "Epoch 26: val_loss did not improve from 0.33412\n",
            "\u001b[1m853/853\u001b[0m \u001b[32m━━━━━━━━━━━━━━━━━━━━\u001b[0m\u001b[37m\u001b[0m \u001b[1m131s\u001b[0m 154ms/step - accuracy: 0.8978 - auc_9: 0.9623 - loss: 0.2430 - val_accuracy: 0.8618 - val_auc_9: 0.9328 - val_loss: 0.3361\n",
            "Epoch 27/50\n",
            "\u001b[1m852/853\u001b[0m \u001b[32m━━━━━━━━━━━━━━━━━━━\u001b[0m\u001b[37m━\u001b[0m \u001b[1m0s\u001b[0m 129ms/step - accuracy: 0.9041 - auc_9: 0.9661 - loss: 0.2305\n",
            "Epoch 27: val_loss improved from 0.33412 to 0.32247, saving model to output/weights.keras\n",
            "\u001b[1m853/853\u001b[0m \u001b[32m━━━━━━━━━━━━━━━━━━━━\u001b[0m\u001b[37m\u001b[0m \u001b[1m131s\u001b[0m 153ms/step - accuracy: 0.9041 - auc_9: 0.9661 - loss: 0.2305 - val_accuracy: 0.8698 - val_auc_9: 0.9376 - val_loss: 0.3225\n",
            "Epoch 28/50\n",
            "\u001b[1m852/853\u001b[0m \u001b[32m━━━━━━━━━━━━━━━━━━━\u001b[0m\u001b[37m━\u001b[0m \u001b[1m0s\u001b[0m 129ms/step - accuracy: 0.9121 - auc_9: 0.9702 - loss: 0.2160\n",
            "Epoch 28: val_loss improved from 0.32247 to 0.31664, saving model to output/weights.keras\n",
            "\u001b[1m853/853\u001b[0m \u001b[32m━━━━━━━━━━━━━━━━━━━━\u001b[0m\u001b[37m\u001b[0m \u001b[1m130s\u001b[0m 153ms/step - accuracy: 0.9121 - auc_9: 0.9702 - loss: 0.2160 - val_accuracy: 0.8755 - val_auc_9: 0.9412 - val_loss: 0.3166\n",
            "Epoch 29/50\n",
            "\u001b[1m852/853\u001b[0m \u001b[32m━━━━━━━━━━━━━━━━━━━\u001b[0m\u001b[37m━\u001b[0m \u001b[1m0s\u001b[0m 129ms/step - accuracy: 0.9161 - auc_9: 0.9726 - loss: 0.2065\n",
            "Epoch 29: val_loss improved from 0.31664 to 0.31081, saving model to output/weights.keras\n",
            "\u001b[1m853/853\u001b[0m \u001b[32m━━━━━━━━━━━━━━━━━━━━\u001b[0m\u001b[37m\u001b[0m \u001b[1m130s\u001b[0m 153ms/step - accuracy: 0.9161 - auc_9: 0.9726 - loss: 0.2065 - val_accuracy: 0.8772 - val_auc_9: 0.9432 - val_loss: 0.3108\n",
            "Epoch 30/50\n",
            "\u001b[1m852/853\u001b[0m \u001b[32m━━━━━━━━━━━━━━━━━━━\u001b[0m\u001b[37m━\u001b[0m \u001b[1m0s\u001b[0m 133ms/step - accuracy: 0.9234 - auc_9: 0.9769 - loss: 0.1901\n",
            "Epoch 30: val_loss improved from 0.31081 to 0.30988, saving model to output/weights.keras\n",
            "\u001b[1m853/853\u001b[0m \u001b[32m━━━━━━━━━━━━━━━━━━━━\u001b[0m\u001b[37m\u001b[0m \u001b[1m134s\u001b[0m 157ms/step - accuracy: 0.9234 - auc_9: 0.9769 - loss: 0.1901 - val_accuracy: 0.8792 - val_auc_9: 0.9441 - val_loss: 0.3099\n",
            "Epoch 31/50\n",
            "\u001b[1m852/853\u001b[0m \u001b[32m━━━━━━━━━━━━━━━━━━━\u001b[0m\u001b[37m━\u001b[0m \u001b[1m0s\u001b[0m 131ms/step - accuracy: 0.9276 - auc_9: 0.9789 - loss: 0.1815\n",
            "Epoch 31: val_loss did not improve from 0.30988\n",
            "\u001b[1m853/853\u001b[0m \u001b[32m━━━━━━━━━━━━━━━━━━━━\u001b[0m\u001b[37m\u001b[0m \u001b[1m132s\u001b[0m 155ms/step - accuracy: 0.9276 - auc_9: 0.9789 - loss: 0.1815 - val_accuracy: 0.8778 - val_auc_9: 0.9428 - val_loss: 0.3188\n",
            "Epoch 32/50\n",
            "\u001b[1m852/853\u001b[0m \u001b[32m━━━━━━━━━━━━━━━━━━━\u001b[0m\u001b[37m━\u001b[0m \u001b[1m0s\u001b[0m 131ms/step - accuracy: 0.9309 - auc_9: 0.9809 - loss: 0.1726\n",
            "Epoch 32: val_loss improved from 0.30988 to 0.30080, saving model to output/weights.keras\n",
            "\u001b[1m853/853\u001b[0m \u001b[32m━━━━━━━━━━━━━━━━━━━━\u001b[0m\u001b[37m\u001b[0m \u001b[1m132s\u001b[0m 154ms/step - accuracy: 0.9309 - auc_9: 0.9809 - loss: 0.1726 - val_accuracy: 0.8885 - val_auc_9: 0.9492 - val_loss: 0.3008\n",
            "Epoch 33/50\n",
            "\u001b[1m852/853\u001b[0m \u001b[32m━━━━━━━━━━━━━━━━━━━\u001b[0m\u001b[37m━\u001b[0m \u001b[1m0s\u001b[0m 132ms/step - accuracy: 0.9367 - auc_9: 0.9834 - loss: 0.1606\n",
            "Epoch 33: val_loss did not improve from 0.30080\n",
            "\u001b[1m853/853\u001b[0m \u001b[32m━━━━━━━━━━━━━━━━━━━━\u001b[0m\u001b[37m\u001b[0m \u001b[1m132s\u001b[0m 155ms/step - accuracy: 0.9367 - auc_9: 0.9834 - loss: 0.1607 - val_accuracy: 0.8885 - val_auc_9: 0.9485 - val_loss: 0.3063\n",
            "Epoch 34/50\n",
            "\u001b[1m852/853\u001b[0m \u001b[32m━━━━━━━━━━━━━━━━━━━\u001b[0m\u001b[37m━\u001b[0m \u001b[1m0s\u001b[0m 131ms/step - accuracy: 0.9397 - auc_9: 0.9840 - loss: 0.1563\n",
            "Epoch 34: val_loss did not improve from 0.30080\n",
            "\u001b[1m853/853\u001b[0m \u001b[32m━━━━━━━━━━━━━━━━━━━━\u001b[0m\u001b[37m\u001b[0m \u001b[1m131s\u001b[0m 154ms/step - accuracy: 0.9397 - auc_9: 0.9840 - loss: 0.1563 - val_accuracy: 0.8812 - val_auc_9: 0.9467 - val_loss: 0.3216\n",
            "Epoch 35/50\n",
            "\u001b[1m852/853\u001b[0m \u001b[32m━━━━━━━━━━━━━━━━━━━\u001b[0m\u001b[37m━\u001b[0m \u001b[1m0s\u001b[0m 131ms/step - accuracy: 0.9411 - auc_9: 0.9857 - loss: 0.1489\n",
            "Epoch 35: val_loss did not improve from 0.30080\n",
            "\u001b[1m853/853\u001b[0m \u001b[32m━━━━━━━━━━━━━━━━━━━━\u001b[0m\u001b[37m\u001b[0m \u001b[1m132s\u001b[0m 155ms/step - accuracy: 0.9411 - auc_9: 0.9857 - loss: 0.1489 - val_accuracy: 0.8917 - val_auc_9: 0.9504 - val_loss: 0.3019\n",
            "Epoch 36/50\n",
            "\u001b[1m852/853\u001b[0m \u001b[32m━━━━━━━━━━━━━━━━━━━\u001b[0m\u001b[37m━\u001b[0m \u001b[1m0s\u001b[0m 131ms/step - accuracy: 0.9432 - auc_9: 0.9865 - loss: 0.1449\n",
            "Epoch 36: val_loss did not improve from 0.30080\n",
            "\u001b[1m853/853\u001b[0m \u001b[32m━━━━━━━━━━━━━━━━━━━━\u001b[0m\u001b[37m\u001b[0m \u001b[1m132s\u001b[0m 155ms/step - accuracy: 0.9432 - auc_9: 0.9865 - loss: 0.1449 - val_accuracy: 0.8906 - val_auc_9: 0.9515 - val_loss: 0.3142\n",
            "Epoch 37/50\n",
            "\u001b[1m852/853\u001b[0m \u001b[32m━━━━━━━━━━━━━━━━━━━\u001b[0m\u001b[37m━\u001b[0m \u001b[1m0s\u001b[0m 131ms/step - accuracy: 0.9484 - auc_9: 0.9882 - loss: 0.1343\n",
            "Epoch 37: val_loss did not improve from 0.30080\n",
            "\u001b[1m853/853\u001b[0m \u001b[32m━━━━━━━━━━━━━━━━━━━━\u001b[0m\u001b[37m\u001b[0m \u001b[1m131s\u001b[0m 154ms/step - accuracy: 0.9484 - auc_9: 0.9882 - loss: 0.1343 - val_accuracy: 0.8931 - val_auc_9: 0.9539 - val_loss: 0.3105\n"
          ]
        },
        {
          "data": {
            "text/plain": [
              "6217"
            ]
          },
          "execution_count": 50,
          "metadata": {},
          "output_type": "execute_result"
        }
      ],
      "source": [
        "from keras.models import Sequential\n",
        "from keras.models import Model, load_model\n",
        "from keras.layers import Dense, LSTM, Input, BatchNormalization, Bidirectional, Dropout\n",
        "from keras.callbacks import ModelCheckpoint, EarlyStopping\n",
        "import tensorflow as tf\n",
        "from keras.optimizers import Adam \n",
        "\n",
        "LSTM_NODES = 128\n",
        "BATCH_SIZE = 256\n",
        "\n",
        "# making output folder\n",
        "tempdir = 'output'\n",
        "if not os.path.exists(tempdir):\n",
        "    os.mkdir(tempdir)\n",
        "weight_path = tempdir + \"/weights.keras\"\n",
        "\n",
        "# build a model\n",
        "model = Sequential()\n",
        "model.add(LSTM(LSTM_NODES,\n",
        "               return_sequences=True, \n",
        "               input_shape=train_x_valid.shape[1:]))\n",
        "model.add(LSTM(units=64, return_sequences=True))\n",
        "model.add(LSTM(units=64))\n",
        "model.add(BatchNormalization())\n",
        "model.add(Dense(1, activation='sigmoid'))\n",
        "\n",
        "\n",
        "# Initialize the model\n",
        "# model = Sequential()\n",
        "# # Add an LSTM layer with more units and return_sequences=True for sequence output\n",
        "# model.add(LSTM(units=128, \n",
        "#                return_sequences=True, \n",
        "#                #input_shape=train_x_valid.shape[1:]\n",
        "#                ))\n",
        "# # Add another LSTM layer with more units and return_sequences=True\n",
        "# model.add(LSTM(units=64, return_sequences=True))\n",
        "# # Add a Bidirectional LSTM layer for more complex learning\n",
        "# model.add(Bidirectional(LSTM(units=64, return_sequences=True)))\n",
        "# # Add a dropout layer for regularization\n",
        "# model.add(Dropout(0.5))\n",
        "# # Add a Dense layer for final output\n",
        "# model.add(Dense(units=1, activation='sigmoid'))\n",
        "\n",
        "\n",
        "\n",
        "model.compile(loss='binary_crossentropy', \n",
        "              optimizer=Adam(learning_rate=1e-3), \n",
        "              metrics=['accuracy', \n",
        "                       tf.keras.metrics.AUC()])\n",
        "\n",
        "hist = model.fit(train_x_valid, \n",
        "                 train_y_valid, \n",
        "                 validation_split=0.3, \n",
        "                 epochs=50, \n",
        "                 batch_size=BATCH_SIZE,\n",
        "                 callbacks=[ModelCheckpoint(monitor='val_loss', filepath=weight_path, verbose=1, save_best_only=True),\n",
        "                            EarlyStopping(monitor='val_loss', patience=5, verbose=0, mode='auto')\n",
        "                            ])\n",
        "\n",
        "# reload the best model\n",
        "model.load_weights(weight_path)\n",
        "open(tempdir + \"/model.json\", \"wt\").write(model.to_json())"
      ]
    },
    {
      "cell_type": "code",
      "execution_count": 51,
      "metadata": {},
      "outputs": [
        {
          "data": {
            "image/png": "[encoded data removed]",
            "text/plain": [
              "<Figure size 640x480 with 1 Axes>"
            ]
          },
          "metadata": {},
          "output_type": "display_data"
        }
      ],
      "source": [
        "import matplotlib.pyplot as plt\n",
        "\n",
        "# Plot training & validation loss\n",
        "plt.plot(hist.history['loss'])\n",
        "plt.plot(hist.history['val_loss'])\n",
        "plt.title('Model loss')\n",
        "plt.xlabel('Epoch')\n",
        "plt.ylabel('Loss')\n",
        "plt.legend(['Train', 'Validation'], loc='upper right')\n",
        "plt.savefig('{}/loss_plot.png'.format(tempdir))\n",
        "plt.show()\n"
      ]
    },
    {
      "cell_type": "code",
      "execution_count": 52,
      "metadata": {},
      "outputs": [
        {
          "name": "stdout",
          "output_type": "stream",
          "text": [
            "\u001b[1m2435/2435\u001b[0m \u001b[32m━━━━━━━━━━━━━━━━━━━━\u001b[0m\u001b[37m\u001b[0m \u001b[1m33s\u001b[0m 13ms/step\n",
            "auroc=0.949, auprc=0.936 acc=0.887, F1=0.890, PPV=86.7, NPV=90.9, TN=33493, fp=5465, fn=3347, TP=35611\n"
          ]
        }
      ],
      "source": [
        "from sklearn.metrics import auc, classification_report, confusion_matrix, accuracy_score, roc_curve, roc_auc_score, f1_score, precision_recall_curve\n",
        "\n",
        "# make prediction on the test dataset\n",
        "test_y_pred = model.predict(test_x_valid).flatten()\n",
        "\n",
        "precision, recall, thmbps = precision_recall_curve(test_y_valid, test_y_pred)\n",
        "auprc = auc(recall, precision)\n",
        "\n",
        "fpr, tpr, thmbps = roc_curve(test_y_valid, test_y_pred)\n",
        "auroc = auc(fpr, tpr)\n",
        "\n",
        "thval = 0.5\n",
        "f1 = f1_score(test_y_valid, test_y_pred > thval)\n",
        "acc = accuracy_score(test_y_valid, test_y_pred > thval)\n",
        "tn, fp, fn, tp = confusion_matrix(test_y_valid, test_y_pred > thval).ravel()\n",
        "\n",
        "testres = 'auroc={:.3f}, auprc={:.3f} acc={:.3f}, F1={:.3f}, PPV={:.1f}, NPV={:.1f}, TN={}, fp={}, fn={}, TP={}'.format(auroc, auprc, acc, f1, tp/(tp+fp)*100, tn/(tn+fn)*100, tn, fp, fn, tp)\n",
        "print(testres)\n",
        "\n",
        "# auroc curve\n",
        "plt.figure(figsize=(10, 10))\n",
        "plt.plot(fpr, tpr)\n",
        "plt.xlabel('False Positive Rate')\n",
        "plt.ylabel('True Positive Rate')\n",
        "plt.savefig('{}/auroc.png'.format(tempdir))\n",
        "plt.close()\n",
        "\n",
        "# auprc curve\n",
        "plt.figure(figsize=(10, 10))\n",
        "plt.plot(recall, precision)\n",
        "plt.xlabel('Recall')\n",
        "plt.ylabel('Precision')\n",
        "plt.savefig('{}/auprc.png'.format(tempdir))\n",
        "plt.close()"
      ]
    },
    {
      "cell_type": "code",
      "execution_count": 54,
      "metadata": {},
      "outputs": [
        {
          "data": {
            "image/png": "[encoded data removed]",
            "text/plain": [
              "<Figure size 600x400 with 1 Axes>"
            ]
          },
          "metadata": {},
          "output_type": "display_data"
        }
      ],
      "source": [
        "import matplotlib.pyplot as plt\n",
        "import seaborn as sns\n",
        "from sklearn.metrics import confusion_matrix\n",
        "\n",
        "# Assuming you have calculated the confusion matrix\n",
        "conf_matrix = confusion_matrix(test_y_valid, test_y_pred > thval)\n",
        "\n",
        "# Visualize the confusion matrix\n",
        "plt.figure(figsize=(6, 4))\n",
        "sns.heatmap(conf_matrix, annot=True, cmap='Blues', fmt='g', cbar=False)\n",
        "plt.xlabel('Predicted labels')\n",
        "plt.ylabel('True labels')\n",
        "plt.title('Confusion Matrix')\n",
        "plt.savefig('{}/confusion_matrix.png'.format(tempdir))\n",
        "plt.show()\n"
      ]
    },
    {
      "cell_type": "code",
      "execution_count": null,
      "metadata": {},
      "outputs": [],
      "source": []
    }
  ],
  "metadata": {
    "colab": {
      "provenance": []
    },
    "kernelspec": {
      "display_name": "Python 3",
      "name": "python3"
    },
    "language_info": {
      "codemirror_mode": {
        "name": "ipython",
        "version": 3
      },
      "file_extension": ".py",
      "mimetype": "text/x-python",
      "name": "python",
      "nbconvert_exporter": "python",
      "pygments_lexer": "ipython3",
      "version": "3.10.14"
    }
  },
  "nbformat": 4,
  "nbformat_minor": 0
}
