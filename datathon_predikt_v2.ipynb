{
  "cells": [
    {
      "cell_type": "code",
      "execution_count": 3,
      "metadata": {
        "colab": {
          "base_uri": "https://localhost:8080/"
        },
        "id": "haUXGG1oBYXR",
        "outputId": "deb89f35-f550-4dda-a0c7-85f542d00dd1"
      },
      "outputs": [],
      "source": [
        "#!pip install vitaldb\n",
        "#!pip install imbalanced-learn\n"
      ]
    },
    {
      "cell_type": "code",
      "execution_count": 4,
      "metadata": {
        "id": "DGozz_HxBbDw"
      },
      "outputs": [],
      "source": [
        "import numpy as np\n",
        "import pandas as pd\n",
        "import os\n",
        "import matplotlib.pyplot as plt\n",
        "import vitaldb\n",
        "import warnings\n",
        "import imblearn\n",
        "warnings.filterwarnings('ignore')"
      ]
    },
    {
      "cell_type": "code",
      "execution_count": null,
      "metadata": {
        "colab": {
          "base_uri": "https://localhost:8080/",
          "height": 423
        },
        "id": "aacj70VCE93U",
        "outputId": "ee759d11-8fd4-42c9-9b8c-48e9f7823ad9"
      },
      "outputs": [
        {
          "data": {
            "text/html": [
              "<div>\n",
              "<style scoped>\n",
              "    .dataframe tbody tr th:only-of-type {\n",
              "        vertical-align: middle;\n",
              "    }\n",
              "\n",
              "    .dataframe tbody tr th {\n",
              "        vertical-align: top;\n",
              "    }\n",
              "\n",
              "    .dataframe thead th {\n",
              "        text-align: right;\n",
              "    }\n",
              "</style>\n",
              "<table border=\"1\" class=\"dataframe\">\n",
              "  <thead>\n",
              "    <tr style=\"text-align: right;\">\n",
              "      <th></th>\n",
              "      <th>Caseid</th>\n",
              "    </tr>\n",
              "  </thead>\n",
              "  <tbody>\n",
              "    <tr>\n",
              "      <th>0</th>\n",
              "      <td>17</td>\n",
              "    </tr>\n",
              "    <tr>\n",
              "      <th>1</th>\n",
              "      <td>19</td>\n",
              "    </tr>\n",
              "    <tr>\n",
              "      <th>2</th>\n",
              "      <td>25</td>\n",
              "    </tr>\n",
              "    <tr>\n",
              "      <th>3</th>\n",
              "      <td>29</td>\n",
              "    </tr>\n",
              "    <tr>\n",
              "      <th>4</th>\n",
              "      <td>34</td>\n",
              "    </tr>\n",
              "    <tr>\n",
              "      <th>...</th>\n",
              "      <td>...</td>\n",
              "    </tr>\n",
              "    <tr>\n",
              "      <th>543</th>\n",
              "      <td>6346</td>\n",
              "    </tr>\n",
              "    <tr>\n",
              "      <th>544</th>\n",
              "      <td>6351</td>\n",
              "    </tr>\n",
              "    <tr>\n",
              "      <th>545</th>\n",
              "      <td>6355</td>\n",
              "    </tr>\n",
              "    <tr>\n",
              "      <th>546</th>\n",
              "      <td>6378</td>\n",
              "    </tr>\n",
              "    <tr>\n",
              "      <th>547</th>\n",
              "      <td>6383</td>\n",
              "    </tr>\n",
              "  </tbody>\n",
              "</table>\n",
              "<p>548 rows × 1 columns</p>\n",
              "</div>"
            ],
            "text/plain": [
              "     Caseid\n",
              "0        17\n",
              "1        19\n",
              "2        25\n",
              "3        29\n",
              "4        34\n",
              "..      ...\n",
              "543    6346\n",
              "544    6351\n",
              "545    6355\n",
              "546    6378\n",
              "547    6383\n",
              "\n",
              "[548 rows x 1 columns]"
            ]
          },
          "execution_count": 18,
          "metadata": {},
          "output_type": "execute_result"
        }
      ],
      "source": [
        "liste_ids = pd.read_excel(\"liste id.xlsx\")\n",
        "liste_ids"
      ]
    },
    {
      "cell_type": "code",
      "execution_count": null,
      "metadata": {
        "id": "ow30pXdEBqtk"
      },
      "outputs": [],
      "source": [
        "df_trks = pd.read_csv('https://api.vitaldb.net/trks')\n",
        "df_cases = pd.read_csv(\"https://api.vitaldb.net/cases\")"
      ]
    },
    {
      "cell_type": "markdown",
      "metadata": {
        "id": "0Q2d2PY1MQtM"
      },
      "source": []
    },
    {
      "cell_type": "code",
      "execution_count": null,
      "metadata": {},
      "outputs": [],
      "source": [
        "LSTM_NODES = 16  # Number of cells in LSTM"
      ]
    },
    {
      "cell_type": "code",
      "execution_count": null,
      "metadata": {
        "colab": {
          "base_uri": "https://localhost:8080/",
          "height": 211
        },
        "id": "4xp2phHvCpEP",
        "outputId": "5e3ef063-9de5-42be-a996-1a288337e803"
      },
      "outputs": [
        {
          "name": "stdout",
          "output_type": "stream",
          "text": [
            "loading 17..."
          ]
        },
        {
          "name": "stdout",
          "output_type": "stream",
          "text": [
            "434 samples 8 (1.8 %) events\n",
            "loading 19...604 samples 93 (15.4 %) events\n",
            "loading 25...296 samples 12 (4.1 %) events\n",
            "loading 29...457 samples 0 (0.0 %) events\n",
            "loading 34...441 samples 0 (0.0 %) events\n",
            "loading 52...344 samples 5 (1.5 %) events\n",
            "loading 60...277 samples 1 (0.4 %) events\n",
            "loading 70...252 samples 0 (0.0 %) events\n",
            "loading 83...263 samples 3 (1.1 %) events\n",
            "loading 94...518 samples 44 (8.5 %) events\n",
            "(4382, 40, 1)\n",
            "(4382,)\n",
            "169\n"
          ]
        }
      ],
      "source": [
        "MINUTES_AHEAD = 1  # Predict hypotension 1 minutes ahead\n",
        "BATCH_SIZE = 256  # Batch size for learning\n",
        "MAX_CASES = 100  # Maximum number of cases for this example\n",
        "SRATE = 2  # sampling rate for the arterial waveform signal\n",
        "\n",
        "# Final dataset for training and testing the model\n",
        "x = []  # input with shape of (segements, timepoints)\n",
        "y = []  # output with shape of (segments)\n",
        "valid_mask = []  # validity of each segement\n",
        "c = []  # caseid of each segment\n",
        "x1=[]\n",
        "# maximum number of cases\n",
        "for caseid in liste_ids['Caseid'].tolist()[0:10]:\n",
        "    print(f'loading {caseid}', end='...', flush=True)\n",
        "\n",
        "    # read the arterial waveform\n",
        "    arts = vitaldb.load_case(caseid, ['Solar8000/ART_MBP'], 2)\n",
        "    plet = vitaldb.load_case(caseid, ['SNUADC/PLETH'], 2)\n",
        "    hr = vitaldb.load_case(caseid, ['Solar8000/PLETH_HR'], 2)\n",
        "\n",
        "    arts[arts<30]=np.nan\n",
        "    case_valid_mask = ~np.isnan(arts)\n",
        "    arts = arts[(np.cumsum(case_valid_mask) > 0) & (np.cumsum(case_valid_mask[::-1])[::-1] > 0)]\n",
        "    \n",
        "    #Filtering artifacts\n",
        "    arts=arts[(arts>=20) & (arts <=180)].flatten()\n",
        "    hr=hr[(hr>=30) & (hr <=160)].flatten()\n",
        "    plet=plet[(plet>=-10) & (plet<=100)].flatten()\n",
        "\n",
        "\n",
        "\n",
        "    case_sample = 0\n",
        "    case_event = 0\n",
        "\n",
        "    for i in range(0, len(arts) - SRATE * (20 + (1 + MINUTES_AHEAD) * 60), 10 * SRATE):\n",
        "        segx = arts[i:i + SRATE * 20]\n",
        "        segy = arts[i + SRATE * (20 + MINUTES_AHEAD * 60):i + SRATE * (20 + (MINUTES_AHEAD + 1) * 60)]\n",
        "        seg2x = plet[i:i + SRATE * 20]\n",
        "        seg2y = plet[i + SRATE * (20 + MINUTES_AHEAD * 60):i + SRATE * (20 + (MINUTES_AHEAD + 1) * 60)]\n",
        "        seg3x=hr[i:i + SRATE * 20]\n",
        "        seg3y = hr[i + SRATE * (20 + MINUTES_AHEAD * 60):i + SRATE * (20 + (MINUTES_AHEAD + 1) * 60)]\n",
        "\n",
        "        # check the validity of this segment\n",
        "        valid = True\n",
        "        if np.isnan(segx).mean() > 0.1:\n",
        "            valid = False\n",
        "        if np.isnan(segy).mean() > 0.1:\n",
        "            valid = False\n",
        "        elif (segx > 150).any():\n",
        "            valid = False\n",
        "        elif (segy > 150).any():\n",
        "            valid = False\n",
        "        elif (np.abs(np.diff(segx)) > 50).any():  # abrupt change -> noise\n",
        "            valid = False\n",
        "        elif (np.abs(np.diff(segy)) > 50).any():  # abrupt change -> noise\n",
        "            valid = False\n",
        "\n",
        "\n",
        "        # 2 sec moving avg\n",
        "        n = 2 * SRATE\n",
        "        segy = np.nancumsum(segy, dtype=np.float32)\n",
        "        segy[n:] = segy[n:] - segy[:-n]\n",
        "        segy = segy[n - 1:] / n\n",
        "\n",
        "        evt = np.nanmax(segy) < 65\n",
        "        \n",
        "        \n",
        "        x.append(seg2x)\n",
        "        y.append(evt)\n",
        "        valid_mask.append(valid)\n",
        "        c.append(caseid)\n",
        "\n",
        "        if valid:\n",
        "            case_sample += 1\n",
        "            if evt:\n",
        "                case_event += 1\n",
        "      \n",
        "\n",
        "    if case_sample > 0:\n",
        "        print(\"{} samples {} ({:.1f} %) events\".format(case_sample, case_event, 100 * case_event / case_sample))\n",
        "    else:\n",
        "        print('no sample')\n",
        "\n",
        "    #if len(np.unique(c)) >= MAX_CASES:\n",
        "    #    break\n",
        "\n",
        "# final caseids\n",
        "caseids = np.unique(c)\n",
        "\n",
        "# convert lists to numpy array\n",
        "\n",
        "\n",
        "\n",
        "x = np.array(x)\n",
        "y = np.array(y)\n",
        "valid_mask = np.array(valid_mask)\n",
        "c = np.array(c)\n",
        "\n",
        "# forward filling\n",
        "x = pd.DataFrame(x).fillna(method='ffill', axis=1).fillna(method='bfill', axis=1).values\n",
        "\n",
        "# normalization\n",
        "x -= 65\n",
        "x /= 65\n",
        "\n",
        "# add axis for CNN\n",
        "x = x[...,None]\n",
        "\n",
        "print(x.shape)\n",
        "print(y.shape)\n",
        "\n",
        "print(y.astype(int).sum())"
      ]
    },
    {
      "cell_type": "code",
      "execution_count": 9,
      "metadata": {},
      "outputs": [
        {
          "name": "stdout",
          "output_type": "stream",
          "text": [
            "(201398, 1, 1)\n",
            "(40,)\n",
            "(201398,)\n"
          ]
        }
      ],
      "source": [
        "# Load the numpy file\n",
        "datax = np.load('x.npy',allow_pickle=True)\n",
        "datay = np.load('y.npy',allow_pickle=True)\n",
        "# Access the data\n",
        "print(datax.shape)\n",
        "print(datax[0][0][0].shape)\n",
        "print(datay.shape)"
      ]
    },
    {
      "cell_type": "code",
      "execution_count": 13,
      "metadata": {},
      "outputs": [
        {
          "name": "stdout",
          "output_type": "stream",
          "text": [
            "(200353, 40)\n",
            "(200353,)\n"
          ]
        }
      ],
      "source": [
        "new_data_x=[]\n",
        "\n",
        "# Iterate through the nested arrays and keep track of indices\n",
        "indices=[]\n",
        "for i, arr1 in enumerate(datax):\n",
        "    for j, arr2 in enumerate(arr1):\n",
        "        for k, item in enumerate(arr2):\n",
        "            if item.shape == (40,):\n",
        "                new_data_x.append(item)\n",
        "            else:\n",
        "                indices.append(i)\n",
        "\n",
        "#Converting list to array\n",
        "new_x=np.array(new_data_x)\n",
        "new_y = np.delete(datay, indices)\n",
        "\n",
        "#add axis\n",
        "print(new_x.shape)\n",
        "print(new_y.shape)"
      ]
    },
    {
      "cell_type": "code",
      "execution_count": 20,
      "metadata": {
        "id": "lkq6jf9wMo9h"
      },
      "outputs": [],
      "source": [
        "from sklearn.model_selection import train_test_split\n",
        "from imblearn.over_sampling import SMOTE\n",
        "\n",
        "smote = SMOTE(sampling_strategy='auto', random_state=42)\n",
        "X_resampled, Y_resampled = smote.fit_resample(new_x, new_y)\n",
        "\n",
        "train_x_valid, test_x_valid, train_y_valid, test_y_valid = train_test_split(X_resampled, \n",
        "                                                                            Y_resampled, \n",
        "                                                                            test_size=0.2, \n",
        "                                                                            random_state=42,\n",
        "                                                                            stratify=Y_resampled)\n",
        "\n"
      ]
    },
    {
      "cell_type": "code",
      "execution_count": 21,
      "metadata": {},
      "outputs": [],
      "source": [
        "# add axis for CNN\n",
        "train_x_valid = train_x_valid[...,None]  \n",
        "# add axis for CNN\n",
        "test_x_valid = test_x_valid[...,None]  "
      ]
    },
    {
      "cell_type": "code",
      "execution_count": 22,
      "metadata": {},
      "outputs": [],
      "source": [
        "train_y_valid=train_y_valid.astype(int)"
      ]
    },
    {
      "cell_type": "code",
      "execution_count": 23,
      "metadata": {},
      "outputs": [
        {
          "data": {
            "text/plain": [
              "(311660,)"
            ]
          },
          "execution_count": 23,
          "metadata": {},
          "output_type": "execute_result"
        }
      ],
      "source": [
        "train_y_valid.shape"
      ]
    },
    {
      "cell_type": "code",
      "execution_count": 24,
      "metadata": {},
      "outputs": [
        {
          "data": {
            "text/plain": [
              "(311660, 40, 1)"
            ]
          },
          "execution_count": 24,
          "metadata": {},
          "output_type": "execute_result"
        }
      ],
      "source": [
        "train_x_valid.shape"
      ]
    },
    {
      "cell_type": "code",
      "execution_count": 37,
      "metadata": {
        "id": "Fwkz0WrfN1Lj"
      },
      "outputs": [
        {
          "name": "stdout",
          "output_type": "stream",
          "text": [
            "Epoch 1/50\n",
            "\u001b[1m224/853\u001b[0m \u001b[32m━━━━━\u001b[0m\u001b[37m━━━━━━━━━━━━━━━\u001b[0m \u001b[1m11s\u001b[0m 18ms/step - accuracy: 0.5727 - auc_4: 0.5975 - loss: 0.6840"
          ]
        }
      ],
      "source": [
        "from keras.models import Sequential\n",
        "from keras.models import Model, load_model\n",
        "from keras.layers import Dense, LSTM, Input, BatchNormalization\n",
        "from keras.callbacks import ModelCheckpoint, EarlyStopping\n",
        "import tensorflow as tf\n",
        "from keras.optimizers import Adam \n",
        "\n",
        "LSTM_NODES = 32\n",
        "BATCH_SIZE = 256\n",
        "\n",
        "# making output folder\n",
        "tempdir = 'output'\n",
        "if not os.path.exists(tempdir):\n",
        "    os.mkdir(tempdir)\n",
        "weight_path = tempdir + \"/weights.keras\"\n",
        "\n",
        "# build a model\n",
        "model = Sequential()\n",
        "model.add(LSTM(LSTM_NODES, input_shape=train_x_valid.shape[1:]))\n",
        "model.add(BatchNormalization())\n",
        "model.add(Dense(1, activation='sigmoid'))\n",
        "model.compile(loss='binary_crossentropy', \n",
        "              optimizer=Adam(learning_rate=1e-3), \n",
        "              metrics=['accuracy', \n",
        "                       tf.keras.metrics.AUC()])\n",
        "\n",
        "hist = model.fit(train_x_valid, \n",
        "                 train_y_valid, \n",
        "                 validation_split=0.3, \n",
        "                 epochs=50, \n",
        "                 batch_size=BATCH_SIZE,\n",
        "                 callbacks=[ModelCheckpoint(monitor='val_loss', filepath=weight_path, verbose=1, save_best_only=True),\n",
        "                            EarlyStopping(monitor='val_loss', patience=5, verbose=0, mode='auto')\n",
        "                            ])\n",
        "\n",
        "# reload the best model\n",
        "model.load_weights(weight_path)\n",
        "open(tempdir + \"/model.json\", \"wt\").write(model.to_json())"
      ]
    },
    {
      "cell_type": "code",
      "execution_count": null,
      "metadata": {},
      "outputs": [
        {
          "data": {
            "image/png": "[encoded data removed]",
            "text/plain": [
              "<Figure size 640x480 with 1 Axes>"
            ]
          },
          "metadata": {},
          "output_type": "display_data"
        }
      ],
      "source": [
        "import matplotlib.pyplot as plt\n",
        "\n",
        "# Plot training & validation loss\n",
        "plt.plot(hist.history['loss'])\n",
        "plt.plot(hist.history['val_loss'])\n",
        "plt.title('Model loss')\n",
        "plt.xlabel('Epoch')\n",
        "plt.ylabel('Loss')\n",
        "plt.legend(['Train', 'Validation'], loc='upper right')\n",
        "plt.savefig('{}/loss_plot.png'.format(tempdir))\n",
        "plt.show()\n"
      ]
    },
    {
      "cell_type": "code",
      "execution_count": null,
      "metadata": {},
      "outputs": [
        {
          "name": "stdout",
          "output_type": "stream",
          "text": [
            "\u001b[1m   1/2435\u001b[0m \u001b[37m━━━━━━━━━━━━━━━━━━━━\u001b[0m \u001b[1m1:10\u001b[0m 29ms/step"
          ]
        },
        {
          "name": "stdout",
          "output_type": "stream",
          "text": [
            "\u001b[1m2435/2435\u001b[0m \u001b[32m━━━━━━━━━━━━━━━━━━━━\u001b[0m\u001b[37m\u001b[0m \u001b[1m8s\u001b[0m 3ms/step\n",
            "auroc=0.636, auprc=0.607 acc=0.594, F1=0.576, PPV=60.2, NPV=58.7, TN=24749, fp=14209, fn=17441, TP=21517\n"
          ]
        }
      ],
      "source": [
        "from sklearn.metrics import auc, classification_report, confusion_matrix, accuracy_score, roc_curve, roc_auc_score, f1_score, precision_recall_curve\n",
        "\n",
        "# make prediction on the test dataset\n",
        "test_y_pred = model.predict(test_x_valid).flatten()\n",
        "\n",
        "precision, recall, thmbps = precision_recall_curve(test_y_valid, test_y_pred)\n",
        "auprc = auc(recall, precision)\n",
        "\n",
        "fpr, tpr, thmbps = roc_curve(test_y_valid, test_y_pred)\n",
        "auroc = auc(fpr, tpr)\n",
        "\n",
        "thval = 0.5\n",
        "f1 = f1_score(test_y_valid, test_y_pred > thval)\n",
        "acc = accuracy_score(test_y_valid, test_y_pred > thval)\n",
        "tn, fp, fn, tp = confusion_matrix(test_y_valid, test_y_pred > thval).ravel()\n",
        "\n",
        "testres = 'auroc={:.3f}, auprc={:.3f} acc={:.3f}, F1={:.3f}, PPV={:.1f}, NPV={:.1f}, TN={}, fp={}, fn={}, TP={}'.format(auroc, auprc, acc, f1, tp/(tp+fp)*100, tn/(tn+fn)*100, tn, fp, fn, tp)\n",
        "print(testres)\n",
        "\n",
        "# auroc curve\n",
        "plt.figure(figsize=(10, 10))\n",
        "plt.plot(fpr, tpr)\n",
        "plt.xlabel('False Positive Rate')\n",
        "plt.ylabel('True Positive Rate')\n",
        "plt.savefig('{}/auroc.png'.format(tempdir))\n",
        "plt.close()\n",
        "\n",
        "# auprc curve\n",
        "plt.figure(figsize=(10, 10))\n",
        "plt.plot(recall, precision)\n",
        "plt.xlabel('Recall')\n",
        "plt.ylabel('Precision')\n",
        "plt.savefig('{}/auprc.png'.format(tempdir))\n",
        "plt.close()"
      ]
    },
    {
      "cell_type": "code",
      "execution_count": null,
      "metadata": {},
      "outputs": [
        {
          "data": {
            "image/png": "[encoded data removed]",
            "text/plain": [
              "<Figure size 600x400 with 1 Axes>"
            ]
          },
          "metadata": {},
          "output_type": "display_data"
        }
      ],
      "source": [
        "import matplotlib.pyplot as plt\n",
        "import seaborn as sns\n",
        "from sklearn.metrics import confusion_matrix\n",
        "\n",
        "# Assuming you have calculated the confusion matrix\n",
        "conf_matrix = confusion_matrix(test_y_valid, test_y_pred > thval)\n",
        "\n",
        "# Visualize the confusion matrix\n",
        "plt.figure(figsize=(6, 4))\n",
        "sns.heatmap(conf_matrix, annot=True, cmap='Blues', fmt='g', cbar=False)\n",
        "plt.xlabel('Predicted labels')\n",
        "plt.ylabel('True labels')\n",
        "plt.title('Confusion Matrix')\n",
        "plt.savefig('{}/confusion_matrix.png'.format(tempdir))\n",
        "plt.show()\n"
      ]
    },
    {
      "cell_type": "code",
      "execution_count": null,
      "metadata": {},
      "outputs": [],
      "source": []
    }
  ],
  "metadata": {
    "colab": {
      "provenance": []
    },
    "kernelspec": {
      "display_name": "Python 3",
      "name": "python3"
    },
    "language_info": {
      "codemirror_mode": {
        "name": "ipython",
        "version": 3
      },
      "file_extension": ".py",
      "mimetype": "text/x-python",
      "name": "python",
      "nbconvert_exporter": "python",
      "pygments_lexer": "ipython3",
      "version": "3.10.14"
    }
  },
  "nbformat": 4,
  "nbformat_minor": 0
}
